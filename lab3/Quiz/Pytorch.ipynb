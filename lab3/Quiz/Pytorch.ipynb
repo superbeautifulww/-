{
 "cells": [
  {
   "cell_type": "markdown",
   "id": "9625b45b",
   "metadata": {},
   "source": [
    "<div align='center' ><font size='6'>《计算机视觉与机器学习》课外实践练习三</font></div> "
   ]
  },
  {
   "cell_type": "markdown",
   "id": "0269d62d",
   "metadata": {},
   "source": [
    "队长学号：20211000581"
   ]
  },
  {
   "cell_type": "markdown",
   "id": "1d620677",
   "metadata": {},
   "source": [
    "队长姓名：林玉雯"
   ]
  },
  {
   "cell_type": "markdown",
   "id": "81b5be08",
   "metadata": {},
   "source": [
    "学号：20211004187"
   ]
  },
  {
   "cell_type": "markdown",
   "id": "7d85baa1",
   "metadata": {},
   "source": [
    "姓名：王曼曼"
   ]
  },
  {
   "cell_type": "markdown",
   "id": "87ac40f3",
   "metadata": {},
   "source": [
    "学号：20211000742"
   ]
  },
  {
   "cell_type": "markdown",
   "id": "382ffff6",
   "metadata": {},
   "source": [
    "姓名：张玥"
   ]
  },
  {
   "cell_type": "markdown",
   "id": "d81967ba",
   "metadata": {},
   "source": [
    "## 实习要求：\n",
    "\n",
    "使用pytorch框架的模块完成任务：\n",
    "\n",
    "\n",
    "**一、使用提供的三种卷积网络形式对HelloRS32数据集分类**\n",
    "  1. model1：编写并实现简单的双层卷积神经网络的训练及预测，精度达到**86%**以上\n",
    "  \n",
    "  \n",
    "  2. model2：编写并实现三层卷积神经网络的训练及预测，精度达到**88%**以上\n",
    "      * 使用了relu作为激活函数\n",
    "      * 在线性层中加入dropout\n",
    "      * 使用局部响应归一化层lrn\n",
    "      * 相比与modle1拥有更深的卷积层\n",
    "      \n",
    "      \n",
    "  3. model3：编写并实现很多层的卷积神经网络的训练及预测，精度达到**91%**以上\n",
    "      * 更小的卷积核尺寸、卷积步长\n",
    "      * 使用批量归一化batchnorm代替局部响应归一化层lrn\n",
    "      * 更深的网络\n",
    "  \n",
    "  \n",
    "   4. **选做**：尝试在model3的基础上加入skip connection，进一步提升精度\n",
    "\n",
    "**二、完成神经网络网络在cifar-10上的训练、预测函数**"
   ]
  },
  {
   "cell_type": "markdown",
   "id": "1eb73060",
   "metadata": {},
   "source": [
    "# 使用pytorch框架的模块完成任务\n",
    "\n",
    "Dropout、Batch Norm和2D卷积是计算机视觉中深度学习的主要工具。\n",
    "\n",
    "在本作业的最后一部分，放弃之前的代码库，转而迁移到流行的深度学习框架之一: PyTorch。"
   ]
  },
  {
   "cell_type": "markdown",
   "id": "dc3f7631",
   "metadata": {},
   "source": [
    "## PyTorch是什么?\n",
    "\n",
    "PyTorch是一个在Tensor对象上执行动态计算图形的系统，其行为类似于numpy ndarray。它带有一个强大的自动区分引擎，消除了手动反向传播的需要。\n",
    "\n",
    "### 为什么采用Pytorch\n",
    "\n",
    "* 我们的代码现在将在gpu上运行速度更快的训练。当使用像PyTorch或TensorFlow这样的框架时，你可以为你自己的自定义神经网络架构利用GPU的能力，而不必直接编写CUDA代码(这超出了本类的范围)。\n",
    "* 我们希望你准备好在你的项目中使用这些框架之一，这样你就可以更有效地进行试验，而不是手工编写你想要使用的所有功能。\n",
    "* 我们要你站在巨人的肩膀上！PyTorch是很棒的框架，会让你的生活变得更简单，现在你已经理解了它的本质，你可以自由地使用它了:)\n",
    "* 我们希望你能接触到你在学术界或工业界可能会遇到的那种深度学习代码。\n",
    "\n",
    "### PyTorch版本\n",
    "\n",
    "假设你正在使用**PyTorch 1.0版本**。在之前的一些版本中(比如0.4之前)，Tensor必须被包装在变量对象中才能在autograd中使用；然而变量现在已被弃用。此外，1.0还将Tensor的数据类型从它的设备中分离出来，并使用numpy风格的工厂来构造Tensor，而不是直接调用Tensor构造函数。"
   ]
  },
  {
   "cell_type": "markdown",
   "id": "34768a90",
   "metadata": {},
   "source": [
    "## 我将如何学习PyTorch?\n",
    "\n",
    "[PyTorch 向导](https://github.com/jcjohnson/pytorch-examples) 可以参考github的这些样例。\n",
    "\n",
    "也可以看Pytorch详细的 [API文档](http://pytorch.org/docs/stable/index.html)。如果你有其他API文档没有解决的问题, [PyTorch forum](https://discuss.pytorch.org/) 也是一个可以参考的地方。\n",
    "\n",
    "\n",
    "### PyTorch可以分为**三个不同的抽象层次**进行构建：\n",
    "1. Barebone PyTorch：**抽象级别1**，直接使用最低级别的PyTorch张量。\n",
    "2. PyTorch模块API：**抽象级别2**，使用`nn.Module`定义任意神经网络结构。\n",
    "3. PyTorch顺序API：**抽象级别3**，使用`nn.Sequential`可以非常方便地定义线性前馈网络。\n",
    "\n",
    "\n",
    "以下是一个比较表：\n",
    "\n",
    "| API           | 灵活性 | 方便性 |\n",
    "|---------------|-------------|-------------|\n",
    "| Barebone      |高        | 低         |\n",
    "| `nn.Module`     | 高       | 中      |\n",
    "| `nn.Sequential` | 低         | 高        |"
   ]
  },
  {
   "cell_type": "markdown",
   "id": "f9baa4bf",
   "metadata": {},
   "source": [
    "# Part I. 准备阶段\n",
    "\n",
    "首先，加载HelloRS32数据集，对其进行预处理，并以mini_batch遍历它；PyTorch为我们提供了方便的工具来自动化这个过程。"
   ]
  },
  {
   "cell_type": "markdown",
   "id": "4e260422",
   "metadata": {},
   "source": [
    "## 导入模块"
   ]
  },
  {
   "cell_type": "code",
   "execution_count": 1,
   "id": "a5a4eeb8",
   "metadata": {},
   "outputs": [],
   "source": [
    "import torch\n",
    "import torch.nn as nn\n",
    "import torch.optim as optim\n",
    "from torch.utils.data import DataLoader\n",
    "\n",
    "from torchvision import transforms\n",
    "from torchvision.datasets import ImageFolder"
   ]
  },
  {
   "cell_type": "markdown",
   "id": "79092777",
   "metadata": {},
   "source": [
    "## 超参数设置"
   ]
  },
  {
   "cell_type": "code",
   "execution_count": 2,
   "id": "6561d734",
   "metadata": {},
   "outputs": [],
   "source": [
    "batch_size = 4  \n",
    "lr = 0.001 \n",
    "epoch = 40\n",
    "print_every = 1000  # 输出损失的频率"
   ]
  },
  {
   "cell_type": "markdown",
   "id": "b6461ddf",
   "metadata": {},
   "source": [
    "## HelloRS32数据集加载"
   ]
  },
  {
   "cell_type": "code",
   "execution_count": 3,
   "id": "a06da67e",
   "metadata": {},
   "outputs": [],
   "source": [
    "train_path = \"D:/CVML/RS32/train\"\n",
    "val_path = \"D:/CVML/RS32/val\"\n",
    "test_path = \"D:/CVML/RS32/test\"\n",
    "out_dir = \"./model\"\n",
    "\n",
    "data_transform = {\n",
    "    \"train\": transforms.Compose([\n",
    "        transforms.ToTensor(),\n",
    "        transforms.Normalize([0, 0, 0], [1, 1, 1])]),\n",
    "    \"test\": transforms.Compose([\n",
    "        transforms.ToTensor(),\n",
    "        transforms.Normalize([0, 0, 0], [1, 1, 1])])}\n",
    "\n",
    "trainset = ImageFolder(train_path, transform=data_transform[\"train\"])\n",
    "valset = ImageFolder(val_path, transform=data_transform[\"test\"])\n",
    "testset = ImageFolder(test_path, transform=data_transform[\"test\"])\n",
    "\n",
    "train_loader = torch.utils.data.DataLoader(trainset,batch_size=batch_size,\n",
    "                                            shuffle=True,num_workers=4)\n",
    "val_loader = torch.utils.data.DataLoader(valset,batch_size=batch_size, \n",
    "                                         shuffle=True,num_workers=4)\n",
    "test_loader = torch.utils.data.DataLoader(testset,batch_size=batch_size,\n",
    "                                          shuffle=True,num_workers=4)"
   ]
  },
  {
   "cell_type": "markdown",
   "id": "99da0f15",
   "metadata": {},
   "source": [
    "你可以**通过设置下面的flag为True使用GPU**。本课程的任务可以不需要使用GPU，但使用GPU可以加速计算。请注意，如果你的计算机没有启用CUDA，`torch.cuda.is_available()`将返回False，将回退到CPU模式。\n",
    "全局变量`dtype `和`device`将控制整个赋值过程中的数据类型。"
   ]
  },
  {
   "cell_type": "code",
   "execution_count": 4,
   "id": "bf20aad6",
   "metadata": {},
   "outputs": [
    {
     "name": "stdout",
     "output_type": "stream",
     "text": [
      "using device: cuda\n"
     ]
    }
   ],
   "source": [
    "dtype = torch.float32  #使用float作为数据类型\n",
    "\n",
    "USE_GPU = True\n",
    "\n",
    "if USE_GPU and torch.cuda.is_available():\n",
    "    device = torch.device('cuda')\n",
    "else:\n",
    "    device = torch.device('cpu')\n",
    "\n",
    "print('using device:', device)"
   ]
  },
  {
   "cell_type": "markdown",
   "id": "ba1ff4c6",
   "metadata": {},
   "source": [
    "# Part II. 模型的设置\n",
    "新建 `model(*).py`,参照给定的网络构造实现不同卷积神经网络对遥感数据集HelloRS32进行分类：\n",
    "\n",
    "你需要查看 `torch.nn` 和 `torch.nn.functional` 来了解pytorch中卷积、池化、激活函数、全连接等功能是如何实现的。\n",
    "\n",
    "当你成功实现model之后，你可以尝试使用更多网络，如`resnet`、`vggnet`、`mobilenet`、`efficientnet`等更强大的网络来在HelloRS32上训练，以提高你的精度，当然这也意味着需要更大的算力"
   ]
  },
  {
   "cell_type": "code",
   "execution_count": 59,
   "id": "be9beab8",
   "metadata": {},
   "outputs": [],
   "source": [
    "import train\n",
    "from models.model1 import Mode11\n",
    "from models.model2 import Model2\n",
    "from models.model3 import Model3\n",
    "from models.model4 import Model4\n",
    "\n",
    "net = Model4()\n",
    "net = net.to(device)"
   ]
  },
  {
   "cell_type": "markdown",
   "id": "ad04074b",
   "metadata": {},
   "source": [
    "# Part III. PyTorch的训练\n",
    "\n",
    "在开始网络的训练之前，我们还需要设置网络的损失函数、优化器，这些设置对于网络的训练也具有重要的影响，但本课程暂不要求对这些设置具有深刻的理解，我们会给出一些示例，你在后续的训练中可以更换不同的损失函数、优化器以及`scheduler`，以提高训练的精度和效率。"
   ]
  },
  {
   "cell_type": "code",
   "execution_count": 6,
   "id": "d45344e0",
   "metadata": {},
   "outputs": [],
   "source": [
    "criterion = nn.CrossEntropyLoss()\n",
    "optimizer = optim.SGD(net.parameters(), lr=lr, momentum=0.9, weight_decay=5e-4)\n",
    "scheduler = torch.optim.lr_scheduler.StepLR(optimizer, step_size=20, gamma=0.5)"
   ]
  },
  {
   "cell_type": "markdown",
   "id": "6defbd89",
   "metadata": {},
   "source": [
    "完成前期的设置之后，我们就可以开始编写训练的代码了，打开`train.py`，完成`train`和`test`函数，并在下面运行训练和测试的代码。"
   ]
  },
  {
   "cell_type": "code",
   "execution_count": 14,
   "id": "e5bf37f9",
   "metadata": {
    "scrolled": true
   },
   "outputs": [
    {
     "name": "stdout",
     "output_type": "stream",
     "text": [
      "Epoch: 0\n",
      "training Loss: 1.833|Acc: 31.081%(2396/7709)\n",
      "val Loss: 1.583 | Acc: 39.155%\n",
      "Saving..\n",
      "Epoch: 1\n",
      "training Loss: 1.194|Acc: 43.670%(6733/15418)\n",
      "val Loss: 0.950 | Acc: 52.552%\n",
      "Saving..\n",
      "Epoch: 2\n",
      "training Loss: 0.904|Acc: 51.252%(11853/23127)\n",
      "val Loss: 0.886 | Acc: 57.443%\n",
      "Saving..\n",
      "Epoch: 3\n",
      "training Loss: 0.796|Acc: 55.983%(17263/30836)\n",
      "val Loss: 0.694 | Acc: 61.802%\n",
      "Saving..\n",
      "Epoch: 4\n",
      "training Loss: 0.714|Acc: 59.414%(22901/38545)\n",
      "val Loss: 0.629 | Acc: 64.609%\n",
      "Saving..\n",
      "Epoch: 5\n",
      "training Loss: 0.645|Acc: 62.064%(28707/46254)\n",
      "val Loss: 0.593 | Acc: 66.853%\n",
      "Saving..\n",
      "Epoch: 6\n",
      "training Loss: 0.579|Acc: 64.314%(34706/53963)\n",
      "val Loss: 0.718 | Acc: 67.464%\n",
      "Saving..\n",
      "Epoch: 7\n",
      "training Loss: 0.546|Acc: 66.140%(40790/61672)\n",
      "val Loss: 1.203 | Acc: 66.956%\n",
      "Epoch: 8\n",
      "training Loss: 0.511|Acc: 67.702%(46972/69381)\n",
      "val Loss: 0.508 | Acc: 68.483%\n",
      "Saving..\n",
      "Epoch: 9\n",
      "training Loss: 0.481|Acc: 69.128%(53291/77090)\n",
      "val Loss: 0.641 | Acc: 69.418%\n",
      "Saving..\n",
      "Epoch: 10\n",
      "training Loss: 0.454|Acc: 70.337%(59645/84799)\n",
      "val Loss: 0.634 | Acc: 70.001%\n",
      "Saving..\n",
      "Epoch: 11\n",
      "training Loss: 0.435|Acc: 71.410%(66060/92508)\n",
      "val Loss: 0.551 | Acc: 70.813%\n",
      "Saving..\n",
      "Epoch: 12\n",
      "training Loss: 0.426|Acc: 72.350%(72507/100217)\n",
      "val Loss: 0.523 | Acc: 71.617%\n",
      "Saving..\n",
      "Epoch: 13\n",
      "training Loss: 0.419|Acc: 73.162%(78961/107926)\n",
      "val Loss: 0.498 | Acc: 72.249%\n",
      "Saving..\n",
      "Epoch: 14\n",
      "training Loss: 0.387|Acc: 73.973%(85539/115635)\n",
      "val Loss: 0.532 | Acc: 72.780%\n",
      "Saving..\n",
      "Epoch: 15\n",
      "training Loss: 0.383|Acc: 74.685%(92120/123344)\n",
      "val Loss: 0.499 | Acc: 73.261%\n",
      "Saving..\n",
      "Epoch: 16\n",
      "training Loss: 0.359|Acc: 75.356%(98756/131053)\n",
      "val Loss: 0.479 | Acc: 73.712%\n",
      "Saving..\n",
      "Epoch: 17\n",
      "training Loss: 0.364|Acc: 75.969%(105416/138762)\n",
      "val Loss: 0.485 | Acc: 74.242%\n",
      "Saving..\n",
      "Epoch: 18\n",
      "training Loss: 0.360|Acc: 76.520%(112079/146471)\n",
      "val Loss: 0.519 | Acc: 74.574%\n",
      "Saving..\n",
      "Epoch: 19\n",
      "training Loss: 0.344|Acc: 77.031%(118766/154180)\n",
      "val Loss: 0.494 | Acc: 74.948%\n",
      "Saving..\n",
      "Epoch: 20\n",
      "training Loss: 0.260|Acc: 77.670%(125739/161889)\n",
      "val Loss: 0.414 | Acc: 75.442%\n",
      "Saving..\n",
      "Epoch: 21\n",
      "training Loss: 0.251|Acc: 78.268%(132741/169598)\n",
      "val Loss: 0.413 | Acc: 75.939%\n",
      "Saving..\n",
      "Epoch: 22\n",
      "training Loss: 0.245|Acc: 78.805%(139726/177307)\n",
      "val Loss: 0.440 | Acc: 76.309%\n",
      "Saving..\n",
      "Epoch: 23\n",
      "training Loss: 0.243|Acc: 79.296%(146711/185016)\n",
      "val Loss: 0.522 | Acc: 76.535%\n",
      "Saving..\n",
      "Epoch: 24\n",
      "training Loss: 0.247|Acc: 79.752%(153702/192725)\n",
      "val Loss: 0.428 | Acc: 76.861%\n",
      "Saving..\n",
      "Epoch: 25\n",
      "training Loss: 0.237|Acc: 80.194%(160737/200434)\n",
      "val Loss: 0.439 | Acc: 77.138%\n",
      "Saving..\n",
      "Epoch: 26\n",
      "training Loss: 0.229|Acc: 80.600%(167763/208143)\n",
      "val Loss: 0.439 | Acc: 77.400%\n",
      "Saving..\n",
      "Epoch: 27\n",
      "training Loss: 0.230|Acc: 80.986%(174809/215852)\n",
      "val Loss: 0.431 | Acc: 77.674%\n",
      "Saving..\n",
      "Epoch: 28\n",
      "training Loss: 0.228|Acc: 81.345%(181855/223561)\n",
      "val Loss: 0.432 | Acc: 77.911%\n",
      "Saving..\n",
      "Epoch: 29\n",
      "training Loss: 0.221|Acc: 81.692%(188928/231270)\n",
      "val Loss: 0.432 | Acc: 78.158%\n",
      "Saving..\n",
      "Epoch: 30\n",
      "training Loss: 0.221|Acc: 82.012%(195991/238979)\n",
      "val Loss: 0.504 | Acc: 78.327%\n",
      "Saving..\n",
      "Epoch: 31\n",
      "training Loss: 0.221|Acc: 82.312%(203055/246688)\n",
      "val Loss: 0.488 | Acc: 78.519%\n",
      "Saving..\n",
      "Epoch: 32\n",
      "training Loss: 0.214|Acc: 82.604%(210142/254397)\n",
      "val Loss: 0.460 | Acc: 78.725%\n",
      "Saving..\n",
      "Epoch: 33\n",
      "training Loss: 0.211|Acc: 82.888%(217255/262106)\n",
      "val Loss: 0.476 | Acc: 78.903%\n",
      "Saving..\n",
      "Epoch: 34\n",
      "training Loss: 0.210|Acc: 83.158%(224373/269815)\n",
      "val Loss: 0.462 | Acc: 79.091%\n",
      "Saving..\n",
      "Epoch: 35\n",
      "training Loss: 0.214|Acc: 83.403%(231464/277524)\n",
      "val Loss: 0.484 | Acc: 79.246%\n",
      "Saving..\n",
      "Epoch: 36\n",
      "training Loss: 0.201|Acc: 83.642%(238575/285233)\n",
      "val Loss: 0.461 | Acc: 79.413%\n",
      "Saving..\n",
      "Epoch: 37\n",
      "training Loss: 0.201|Acc: 83.873%(245700/292942)\n",
      "val Loss: 0.447 | Acc: 79.562%\n",
      "Saving..\n",
      "Epoch: 38\n",
      "training Loss: 0.193|Acc: 84.106%(252866/300651)\n",
      "val Loss: 0.471 | Acc: 79.724%\n",
      "Saving..\n",
      "Epoch: 39\n",
      "training Loss: 0.201|Acc: 84.317%(260001/308360)\n",
      "val Loss: 0.489 | Acc: 79.813%\n",
      "Saving..\n",
      "1041.263733625412\n"
     ]
    }
   ],
   "source": [
    "import time \n",
    "tic = time.time()\n",
    "train.train_val(train_loader, val_loader, net, criterion, optimizer, epoch, print_every, device, scheduler,\n",
    "            output_dir=out_dir)\n",
    "\n",
    "toc = time.time()\n",
    "print(toc - tic)"
   ]
  },
  {
   "cell_type": "markdown",
   "id": "72144221",
   "metadata": {},
   "source": [
    "## 测试集\n",
    "\n",
    "我们通过训练得到了精度最高的模型之后，在测试集上运行我们的模型，并得到测试精度。"
   ]
  },
  {
   "cell_type": "code",
   "execution_count": 7,
   "id": "175d41c8",
   "metadata": {},
   "outputs": [
    {
     "name": "stdout",
     "output_type": "stream",
     "text": [
      "testing Loss: 0.451 | Acc: 87.259%\n"
     ]
    }
   ],
   "source": [
    "#加载模型参数\n",
    "#model1\n",
    "ckp = \"D:/CVML/lab3/Quiz/model/epoch039.pth\"\n",
    "pretrained_dict = torch.load(ckp)\n",
    "net.load_state_dict(pretrained_dict[\"net\"])\n",
    "\n",
    "#测试\n",
    "train.predict(test_loader, net, criterion, device)"
   ]
  },
  {
   "cell_type": "code",
   "execution_count": 10,
   "id": "2e4dc383",
   "metadata": {},
   "outputs": [
    {
     "name": "stdout",
     "output_type": "stream",
     "text": [
      "testing Loss: 0.459 | Acc: 90.516%\n"
     ]
    }
   ],
   "source": [
    "#加载模型参数\n",
    "#model2\n",
    "ckp = \"D:/CVML/lab3/Quiz/model2/epoch039.pth\"\n",
    "pretrained_dict = torch.load(ckp)\n",
    "net.load_state_dict(pretrained_dict[\"net\"])\n",
    "\n",
    "#测试\n",
    "train.predict(test_loader, net, criterion, device)"
   ]
  },
  {
   "cell_type": "code",
   "execution_count": 57,
   "id": "a32fb4ab-9bf6-4cb1-ab19-2b788c5c3aae",
   "metadata": {},
   "outputs": [
    {
     "name": "stdout",
     "output_type": "stream",
     "text": [
      "testing Loss: 0.376 | Acc: 91.532%\n"
     ]
    }
   ],
   "source": [
    "#加载模型参数\n",
    "#model3\n",
    "ckp = \"D:/CVML/lab3/Quiz/model3/epoch039.pth\"\n",
    "pretrained_dict = torch.load(ckp)\n",
    "net.load_state_dict(pretrained_dict[\"net\"])\n",
    "\n",
    "#测试\n",
    "train.predict(test_loader, net, criterion, device)"
   ]
  },
  {
   "cell_type": "code",
   "execution_count": 73,
   "id": "51015fd5-8084-4ddf-b4c3-fc16aa51052d",
   "metadata": {},
   "outputs": [
    {
     "name": "stdout",
     "output_type": "stream",
     "text": [
      "testing Loss: 0.401 | Acc: 93.278%\n"
     ]
    }
   ],
   "source": [
    "#加载模型参数\n",
    "#model4\n",
    "ckp = \"D:/CVML/lab3/Quiz/model4/epoch039.pth\"\n",
    "pretrained_dict = torch.load(ckp)\n",
    "net.load_state_dict(pretrained_dict[\"net\"])\n",
    "\n",
    "#测试\n",
    "train.predict(test_loader, net, criterion, device)"
   ]
  }
 ],
 "metadata": {
  "kernelspec": {
   "display_name": "cvml",
   "language": "python",
   "name": "cvml"
  },
  "language_info": {
   "codemirror_mode": {
    "name": "ipython",
    "version": 3
   },
   "file_extension": ".py",
   "mimetype": "text/x-python",
   "name": "python",
   "nbconvert_exporter": "python",
   "pygments_lexer": "ipython3",
   "version": "3.10.13"
  }
 },
 "nbformat": 4,
 "nbformat_minor": 5
}
